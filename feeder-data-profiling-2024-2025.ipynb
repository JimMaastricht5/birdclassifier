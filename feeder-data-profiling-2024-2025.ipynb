{
 "cells": [
  {
   "cell_type": "markdown",
   "id": "24f1265c-392a-4ba1-bfeb-8eb09b026dda",
   "metadata": {
    "tags": []
   },
   "source": [
    "# Data Profiling of 2024 and 2025 saved JPGs from Bird Feeder"
   ]
  },
  {
   "cell_type": "code",
   "execution_count": 8,
   "id": "2cfacbd3-c5f9-4659-afe1-f18f1cc7a029",
   "metadata": {
    "tags": []
   },
   "outputs": [],
   "source": [
    "import pandas as pd\n",
    "import gcs_inventory as gcsi"
   ]
  },
  {
   "cell_type": "code",
   "execution_count": 9,
   "id": "79833386-2726-45e9-b4d8-d895652a4f99",
   "metadata": {
    "tags": []
   },
   "outputs": [
    {
     "name": "stdout",
     "output_type": "stream",
     "text": [
      "Reading images from GCS....\n",
      "Saved jpg list as raw_archive-jpg-list.csv....\n"
     ]
    }
   ],
   "source": [
    "df_file_name = 'raw_archive-jpg-list.csv'\n",
    "try: \n",
    "    df_raw = pd.read_csv(df_file_name)  # reload existing file\n",
    "    print(f'Loading existing file {df_file_name}')\n",
    "except:\n",
    "    df_raw = gcsi.get_archived_jpg_images(df_file_name)  # .01 per 1000 operations so about $0.80 per run, create from scratch\n",
    "    print(f'Reading images from GCS....')\n",
    "\n",
    "# clean the data and remove files that have a bad name, only numbers for species name\n",
    "df_raw = df_raw[df_raw['Name'].str.contains(r'[a-zA-Z]', na=False)]  # na=False handles NaN values\n",
    "    \n",
    "# structure raw data\n",
    "df_raw['DateTime'] = pd.to_datetime(df_raw['DateTime'], errors='raise')\n",
    "df_raw.to_csv(df_file_name, index=False)\n",
    "print(f'Saved jpg list as {df_file_name}....')\n"
   ]
  },
  {
   "cell_type": "code",
   "execution_count": 10,
   "id": "417e4236-7efd-4541-8b39-b34f13fdf7da",
   "metadata": {
    "tags": []
   },
   "outputs": [
    {
     "name": "stdout",
     "output_type": "stream",
     "text": [
      "df shape (84017, 8)\n",
      "Index(['Number', 'Name', 'Year', 'Month', 'Day', 'Hour', 'DateTime',\n",
      "       'Image Name'],\n",
      "      dtype='object')\n",
      "   Number           Name  Year  Month  Day  Hour            DateTime  \\\n",
      "0       0  Mourning Dove  2023     12   17     8 2023-12-17 08:45:02   \n",
      "1       1  House Sparrow  2023     12   17     8 2023-12-17 08:48:04   \n",
      "2       2    House Finch  2023     12   17     8 2023-12-17 08:52:00   \n",
      "3       3    House Finch  2023     12   17     8 2023-12-17 08:52:02   \n",
      "4       4    House Finch  2023     12   17     8 2023-12-17 08:54:02   \n",
      "\n",
      "                                Image Name  \n",
      "0  2023-12-17-08-45-2231(MourningDove).jpg  \n",
      "1  2023-12-17-08-48-4137(HouseSparrow).jpg  \n",
      "2    2023-12-17-08-52-0844(HouseFinch).jpg  \n",
      "3    2023-12-17-08-52-2750(HouseFinch).jpg  \n",
      "4    2023-12-17-08-54-2356(HouseFinch).jpg  \n"
     ]
    }
   ],
   "source": [
    "# profile df\n",
    "print(f'df shape {df_raw.shape}')\n",
    "print(df_raw.columns)\n",
    "print(df_raw.head(5))"
   ]
  },
  {
   "cell_type": "code",
   "execution_count": 11,
   "id": "c9d6e840-9a1d-48d6-a212-36635109c07d",
   "metadata": {
    "tags": []
   },
   "outputs": [],
   "source": [
    "# filter\n",
    "def filter_by_year(df_raw, year: int): \n",
    "    print(f'Limiting list to {year} only....')\n",
    "    df = df_raw[df_raw['DateTime'].dt.year == year].copy() # .copy() avoids warnings about setting values on slice\n",
    "    print('')\n",
    "    print(f'Starting date: {df[\"DateTime\"].min()}')\n",
    "    print(f'Ending date: {df[\"DateTime\"].max()}')\n",
    "    print(f'Number of Images: \\t{df.shape[0]}\\n')\n",
    "    return df"
   ]
  },
  {
   "cell_type": "code",
   "execution_count": 12,
   "id": "ba114047-6fdc-4a55-9bc5-63e8a5e96b29",
   "metadata": {
    "tags": []
   },
   "outputs": [
    {
     "name": "stdout",
     "output_type": "stream",
     "text": [
      "Limiting list to 2024 only....\n",
      "\n",
      "Starting date: 2024-01-01 08:35:04\n",
      "Ending date: 2024-12-31 15:18:02\n",
      "Number of Images: \t74849\n",
      "\n",
      "Possible False Positives: \n",
      "Name\n",
      "White-crowned Sparrow        123\n",
      "Common GroundDove             99\n",
      "White-throated Sparrow        88\n",
      "Chipping Sparrow              80\n",
      "Cedar Waxwing                 44\n",
      "Indigo Bunting                36\n",
      "Harris's Sparrow              35\n",
      "Lark Sparrow                  29\n",
      "Song Sparrow                  27\n",
      "Black Phoebe                  19\n",
      "Evening Grosbeak              15\n",
      "Field Sparrow                 14\n",
      "Vesper Sparrow                12\n",
      "Chestnut-backed Chickadee     11\n",
      "American Tree Sparrow         11\n",
      "Lincoln's Sparrow              8\n",
      "Snow Bunting                   5\n",
      "Red-bellied Woodpecker         5\n",
      "Carolina Wren                  4\n",
      "White-breasted Nuthatch        4\n",
      "Bewick's Wren                  3\n",
      "California Towhee              3\n",
      "Grasshopper Sparrow            2\n",
      "Plain Chachalaca               2\n",
      "Gray-headed Junco              2\n",
      "Eurasian CollaredDove          2\n",
      "Cinnamon Teal                  2\n",
      "Northern Jacana                1\n",
      "Barred Owl                     1\n",
      "Lesser Goldfinch               1\n",
      "Summer Tanager                 1\n",
      "Eastern Phoebe                 1\n",
      "Canada Goose                   1\n",
      "Pine Grosbeak                  1\n",
      "Crested Caracara               1\n",
      "Wrentit                        1\n",
      "Fox Sparrow                    1\n",
      "California Thrasher            1\n",
      "White-tipped Dove              1\n",
      "Heermann's Gull                1\n",
      "Downy Woodpecker               1\n",
      "Great Horned Owl               1\n",
      "Brown Thrasher                 1\n",
      "Baltimore Oriole               1\n",
      "Wood Duck                      1\n",
      "Name: count, dtype: int64\n",
      "\n",
      "Remaining Species: \n",
      "Name\n",
      "House Finch               29921\n",
      "House Sparrow             13277\n",
      "Mourning Dove             11715\n",
      "Northern Cardinal          6233\n",
      "Common Grackle             5001\n",
      "Purple Finch               1733\n",
      "Black-capped Chickadee     1218\n",
      "Brown-headed Cowbird       1036\n",
      "American Goldfinch          855\n",
      "Brewer's Blackbird          641\n",
      "American Robin              598\n",
      "Dark-eyed Junco             501\n",
      "Pine Siskin                 465\n",
      "American Crow               308\n",
      "Rock Pigeon                 262\n",
      "Rose-breasted Grosbeak      197\n",
      "Blue Jay                    185\n",
      "Name: count, dtype: int64\n"
     ]
    }
   ],
   "source": [
    "# profile 2024\n",
    "df = filter_by_year(df_raw=df_raw, year=2024) \n",
    "name_counts = df['Name'].value_counts()    \n",
    "print(f'Possible False Positives: \\n{name_counts[name_counts <= 150]}')\n",
    "print('')\n",
    "print(f'Remaining Species: \\n{name_counts[name_counts > 150]}')"
   ]
  },
  {
   "cell_type": "code",
   "execution_count": 15,
   "id": "c46cbe4a-1df7-4a4d-a928-1182703d6501",
   "metadata": {
    "tags": []
   },
   "outputs": [
    {
     "name": "stdout",
     "output_type": "stream",
     "text": [
      "Limiting list to 2025 only....\n",
      "\n",
      "Starting date: 2025-01-01 08:35:05\n",
      "Ending date: 2025-01-27 14:47:02\n",
      "Number of Images: \t6221\n",
      "\n",
      "Possible False Positives: \n",
      "Name\n",
      "White-throated Sparrow    1\n",
      "Name: count, dtype: int64\n",
      "\n",
      "Remaining Species: \n",
      "Name\n",
      "House Finch               2988\n",
      "House Sparrow             2198\n",
      "Northern Cardinal          445\n",
      "Mourning Dove              246\n",
      "Dark-eyed Junco            161\n",
      "Black-capped Chickadee     128\n",
      "American Goldfinch          34\n",
      "American Tree Sparrow       12\n",
      "Purple Finch                 8\n",
      "Name: count, dtype: int64\n"
     ]
    }
   ],
   "source": [
    "# profile 2025\n",
    "df = filter_by_year(df_raw=df_raw, year=2025) \n",
    "name_counts = df['Name'].value_counts()    \n",
    "print(f'Possible False Positives: \\n{name_counts[name_counts <= 5]}')\n",
    "print('')\n",
    "print(f'Remaining Species: \\n{name_counts[name_counts > 5]}')"
   ]
  },
  {
   "cell_type": "code",
   "execution_count": null,
   "id": "e246edc5-19d2-40f3-8d72-d7615a968978",
   "metadata": {
    "tags": []
   },
   "outputs": [],
   "source": []
  },
  {
   "cell_type": "code",
   "execution_count": 14,
   "id": "49baa4ec-4cf8-4bd6-bd10-3bb2d6a9bfcb",
   "metadata": {
    "tags": []
   },
   "outputs": [],
   "source": [
    "# import static_functions\n",
    "# birdn = 'raw_2025-01-16-14-13-37824(HouseSparrow).jpg'\n",
    "# print(static_functions.common_name(birdn))\n",
    "\n",
    "# birdn = '2023-12-17-08-45-2231(MourningDove).jpg'\n",
    "# print(static_functions.common_name(birdn))"
   ]
  },
  {
   "cell_type": "code",
   "execution_count": null,
   "id": "c322ff16-7d26-4406-bf55-a014bf8c9c8c",
   "metadata": {},
   "outputs": [],
   "source": []
  }
 ],
 "metadata": {
  "environment": {
   "kernel": "conda-base-py",
   "name": "workbench-notebooks.m127",
   "type": "gcloud",
   "uri": "us-docker.pkg.dev/deeplearning-platform-release/gcr.io/workbench-notebooks:m127"
  },
  "kernelspec": {
   "display_name": "Python 3 (ipykernel)",
   "language": "python",
   "name": "conda-base-py"
  },
  "language_info": {
   "codemirror_mode": {
    "name": "ipython",
    "version": 3
   },
   "file_extension": ".py",
   "mimetype": "text/x-python",
   "name": "python",
   "nbconvert_exporter": "python",
   "pygments_lexer": "ipython3",
   "version": "3.10.16"
  }
 },
 "nbformat": 4,
 "nbformat_minor": 5
}

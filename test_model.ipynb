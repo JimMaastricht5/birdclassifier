{
 "cells": [
  {
   "cell_type": "code",
   "execution_count": null,
   "id": "5799879d-dda7-4174-bf1d-996ea1afa5e1",
   "metadata": {},
   "outputs": [],
   "source": [
    "##### Sample code for inference"
   ]
  },
  {
   "cell_type": "code",
   "execution_count": null,
   "id": "2c718ff5-7282-47d3-903c-12c4bd117705",
   "metadata": {},
   "outputs": [],
   "source": [
    "# sample predictions one at a time for rasp pi type interaction\n",
    "# small_img = image.load_img(img_path, target_size=(224, 224))\n",
    "# small_img_array = image.img_to_array(small_img)\n",
    "# small_img_array = np.expand_dims(small_img_array, axis=0)  # an array of 1 image\n",
    "# small_img_array = preprocess_input(small_img_array) # apply same normalization as training data\n",
    "# small_predictions = model.predict(small_img_array)\n",
    "# decoded_small_predictions = decode_predictions(small_predictions, top=1)[0]\n",
    "# print(decoded_small_predictions)"
   ]
  },
  {
   "cell_type": "code",
   "execution_count": null,
   "id": "8c09cf7c-f3b7-41d4-8670-f921a769a61a",
   "metadata": {},
   "outputs": [],
   "source": [
    "# sample code for testing at scale against feeder sets\n",
    "# import tensorflow as tf\n",
    "# from tensorflow.keras.preprocessing import image\n",
    "# from tensorflow.keras.applications.imagenet_utils import preprocess_input, decode_predictions\n",
    "# import numpy as np\n",
    "# from sklearn.metrics import classification_report, confusion_matrix\n",
    "\n",
    "# test_datagen = tf.keras.preprocessing.image.ImageDataGenerator(preprocessing_function=preprocess_input)\n",
    "# test_generator = test_datagen.flow_from_directory('??', target_size=(224, 224), batch_size=32, class_mode='categorical', shuffle=False)\n",
    "\n",
    "# model_test = tf.keras.models.load_model('??.h5') # Replace with your model path\n",
    "# results = model_test.evaluate(test_generator)\n",
    "\n",
    "# # Print the results: loss and the metrics compiled with model\n",
    "# print(\"Test Loss:\", results[0])\n",
    "# print(\"Test Accuracy:\", results[1]) # accuracy\n",
    "# if len(results) > 2:\n",
    "#     print(\"Test Precision:\", results[2]) # precision was the second metric after loss in compiled model\n",
    "# if len(results) > 3:\n",
    "#     print(\"Test Recall:\", results[3]) # recall was the third metric"
   ]
  }
 ],
 "metadata": {
  "environment": {
   "kernel": "conda-base-py",
   "name": "workbench-notebooks.m127",
   "type": "gcloud",
   "uri": "us-docker.pkg.dev/deeplearning-platform-release/gcr.io/workbench-notebooks:m127"
  },
  "kernelspec": {
   "display_name": "Python 3 (ipykernel)",
   "language": "python",
   "name": "conda-base-py"
  },
  "language_info": {
   "codemirror_mode": {
    "name": "ipython",
    "version": 3
   },
   "file_extension": ".py",
   "mimetype": "text/x-python",
   "name": "python",
   "nbconvert_exporter": "python",
   "pygments_lexer": "ipython3",
   "version": "3.10.16"
  }
 },
 "nbformat": 4,
 "nbformat_minor": 5
}

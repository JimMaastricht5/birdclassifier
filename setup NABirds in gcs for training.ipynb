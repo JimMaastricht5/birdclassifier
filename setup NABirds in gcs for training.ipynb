{
 "cells": [
  {
   "cell_type": "markdown",
   "id": "dfe266da-f7d0-4660-a9a6-233cbc6dd32d",
   "metadata": {},
   "source": [
    "### Notebook to setup data for a tensorflow.keras train from dir\n",
    "The following code will read out the images in the NABirds dataset I kept in GCS.  Some additional manipulation is performed to get image names and keys to match the actual file names.  I looked at the suggested train/test split in the NABirds dataset.  They have a 50/50 split.  I'd prefer 80/20 so I worked a new column called Train_Validate to mark that split.  Train/Validate is what I have Keras setup to look for under the \"Images\" directory in GCS.  I also looked at the balance of images by bird and it ranges from 91 to 120 which is fairly balanced so I did no data enrichment.  "
   ]
  },
  {
   "cell_type": "code",
   "execution_count": 1,
   "id": "a64e3e2e-3a2b-49d7-a727-951d8fee5eef",
   "metadata": {
    "tags": []
   },
   "outputs": [
    {
     "name": "stdout",
     "output_type": "stream",
     "text": [
      "no module auth.py found with key google_json_key for gcs, assuming this is running from within GCP project\n"
     ]
    }
   ],
   "source": [
    "import pandas as pd\n",
    "import gcs\n",
    "import gcs_inventory as gcsi\n",
    "from google.cloud import storage\n",
    "import os\n",
    "import numpy as np"
   ]
  },
  {
   "cell_type": "code",
   "execution_count": 2,
   "id": "1f17c21f-8970-4cff-9bde-f5d175a8fb8a",
   "metadata": {
    "tags": []
   },
   "outputs": [],
   "source": [
    "def pull_image_key(image_name: str) -> str:\n",
    "    filename = os.path.basename(image_name)  # remove path   \n",
    "    image_key = os.path.splitext(filename)[0]  # Remove .jpg\n",
    "    return image_key"
   ]
  },
  {
   "cell_type": "code",
   "execution_count": 3,
   "id": "0e2a39a5-2e65-4cba-a957-ae7f20311036",
   "metadata": {
    "tags": []
   },
   "outputs": [
    {
     "name": "stdout",
     "output_type": "stream",
     "text": [
      "Loading existing file nabirds-jpg-list.csv\n"
     ]
    }
   ],
   "source": [
    "df_file_name = 'nabirds-jpg-list.csv'  # built in profiling nb\n",
    "try: \n",
    "    df_raw = pd.read_csv(df_file_name)  # reload existing file if it exists, delete it if you want to recreate it\n",
    "    print(f'Loading existing file {df_file_name}')\n",
    "except:\n",
    "    df_raw = gcsi.get_nabirds_jpg_images(df_file_name)  # .01 per 1000 operations so about $0.80 per run, create from scratch\n",
    "    print(f'Reading images from GCS....')\n",
    "    \n",
    "df_raw['Image'] = df_raw['Image Name'].apply(pull_image_key)"
   ]
  },
  {
   "cell_type": "code",
   "execution_count": 4,
   "id": "8e8e7bb9-f71f-49ac-bc81-c612f6040897",
   "metadata": {
    "tags": []
   },
   "outputs": [],
   "source": [
    "# print(df_raw.shape)\n",
    "# print(df_raw.columns)\n",
    "# print(df_raw.head(1))"
   ]
  },
  {
   "cell_type": "code",
   "execution_count": 5,
   "id": "84aab9d9-f8ea-48ca-be36-cd41d249deb1",
   "metadata": {
    "tags": []
   },
   "outputs": [
    {
     "name": "stdout",
     "output_type": "stream",
     "text": [
      "(3076, 2)\n",
      "                              Image  Train_B\n",
      "0  001c81f1d30240298cb54488e966eff7        1\n"
     ]
    }
   ],
   "source": [
    "nabirds_storage = gcs.Storage(bucket_name='nabirds_filtered')\n",
    "nabirds_test_train_df = nabirds_storage.get_df('train_test_split_filtered.txt', \n",
    "                                               header=None, column_names=['Image','Train_B'], delimiter= ' ')\n",
    "nabirds_test_train_df['Image'] = nabirds_test_train_df['Image'].astype(str).str.replace(\"-\", \"\")  # remove - from names\n",
    "nabirds_test_train_df['Train_B'] = nabirds_test_train_df['Train_B'].astype(int)\n",
    "print(nabirds_test_train_df.shape)\n",
    "print(nabirds_test_train_df.head(1))"
   ]
  },
  {
   "cell_type": "code",
   "execution_count": 6,
   "id": "2deb9c79-ba4a-4c0d-a848-fc4569725ca9",
   "metadata": {
    "tags": []
   },
   "outputs": [],
   "source": [
    "joined_df = pd.merge(df_raw, nabirds_test_train_df, on='Image', how='inner')"
   ]
  },
  {
   "cell_type": "code",
   "execution_count": 7,
   "id": "84b51b1b-e56e-4bc6-a27b-6567e0161005",
   "metadata": {
    "tags": []
   },
   "outputs": [],
   "source": [
    "# print(joined_df.shape)\n",
    "# print(joined_df.columns)\n",
    "# print(joined_df.head(1))"
   ]
  },
  {
   "cell_type": "code",
   "execution_count": 8,
   "id": "b0bb9d14-df3c-4dbb-8e0d-0a4ee87e3b06",
   "metadata": {
    "tags": []
   },
   "outputs": [
    {
     "name": "stdout",
     "output_type": "stream",
     "text": [
      "(1531, 9)\n",
      "(1545, 9)\n",
      "27\n",
      "Class Name\n",
      "Mourning Dove                             120\n",
      "Northern Cardinal Female Juvenile         120\n",
      "Blue Jay                                  120\n",
      "White-Breasted Nuthatch                   120\n",
      "Red-Bellied Woodpecker                    120\n",
      "American Goldfinch Male                   120\n",
      "House Finch Male                          120\n",
      "American Goldfinch Female Juvenile        120\n",
      "Brown-Headed Cowbird Male                 120\n",
      "Rose-Breasted Grosbeak Male               120\n",
      "Northern Cardinal Male                    120\n",
      "Dark-Eyed Junco                           120\n",
      "Downy Woodpecker                          120\n",
      "Song Sparrow                              120\n",
      "House Sparrow Male                        119\n",
      "American Robin                            119\n",
      "Common Grackle                            118\n",
      "House Sparrow Female                      117\n",
      "House Finch Female Juvenile               112\n",
      "Tree Sparrow                              110\n",
      "Baltimore Oriole Male                     109\n",
      "Purple Finch Male                         103\n",
      "Brown-Headed Cowbird Female Juvenile      103\n",
      "Rose-Breasted Grosbeak Female Juvenile    101\n",
      "Baltimore Oriole Female Juvenile           98\n",
      "Black-Capped Chickadee                     96\n",
      "Purple Finch Female Juvenile               91\n",
      "Name: count, dtype: int64\n"
     ]
    }
   ],
   "source": [
    "train_df = joined_df[joined_df['Train_B'] == 1] \n",
    "test_df = joined_df[joined_df['Train_B'] == 0]\n",
    "print(train_df.shape)\n",
    "print(test_df.shape)\n",
    "print(joined_df['Class Name'].nunique())\n",
    "print(joined_df['Class Name'].value_counts())\n",
    "# print(train_df['Class Name'].value_counts())\n",
    "# print(test_df['Class Name'].value_counts())"
   ]
  },
  {
   "cell_type": "markdown",
   "id": "50331cdf-a3d8-43c2-9119-bd7df6bc8708",
   "metadata": {},
   "source": [
    "### Test and Train Setup\n",
    "The data is roughly split 50/50 between testing and training.  I'd like an 80/20 split so I'll create a new column that is Train_Validate for that split and leave Cornell's org col alone"
   ]
  },
  {
   "cell_type": "code",
   "execution_count": 9,
   "id": "3d0b26d6-9df6-42d0-a701-203c8e374b38",
   "metadata": {
    "tags": []
   },
   "outputs": [
    {
     "name": "stdout",
     "output_type": "stream",
     "text": [
      "Train Test class Mourning Dove with size 96 over the group of 120\n",
      "Train Test class Red-Bellied Woodpecker with size 96 over the group of 120\n",
      "Train Test class Downy Woodpecker with size 96 over the group of 120\n",
      "Train Test class Dark-Eyed Junco with size 96 over the group of 120\n",
      "Train Test class American Robin with size 95 over the group of 119\n",
      "Train Test class Northern Cardinal Male with size 96 over the group of 120\n",
      "Train Test class Rose-Breasted Grosbeak Male with size 96 over the group of 120\n",
      "Train Test class Brown-Headed Cowbird Male with size 96 over the group of 120\n",
      "Train Test class Baltimore Oriole Male with size 87 over the group of 109\n",
      "Train Test class Purple Finch Male with size 82 over the group of 103\n",
      "Train Test class House Finch Male with size 96 over the group of 120\n",
      "Train Test class American Goldfinch Male with size 96 over the group of 120\n",
      "Train Test class House Sparrow Male with size 95 over the group of 119\n",
      "Train Test class Black-Capped Chickadee with size 76 over the group of 96\n",
      "Train Test class White-Breasted Nuthatch with size 96 over the group of 120\n",
      "Train Test class Tree Sparrow with size 88 over the group of 110\n",
      "Train Test class Song Sparrow with size 96 over the group of 120\n",
      "Train Test class Common Grackle with size 94 over the group of 118\n",
      "Train Test class Blue Jay with size 96 over the group of 120\n",
      "Train Test class Northern Cardinal Female Juvenile with size 96 over the group of 120\n",
      "Train Test class Rose-Breasted Grosbeak Female Juvenile with size 80 over the group of 101\n",
      "Train Test class Brown-Headed Cowbird Female Juvenile with size 82 over the group of 103\n",
      "Train Test class Baltimore Oriole Female Juvenile with size 78 over the group of 98\n",
      "Train Test class Purple Finch Female Juvenile with size 72 over the group of 91\n",
      "Train Test class House Finch Female Juvenile with size 89 over the group of 112\n",
      "Train Test class American Goldfinch Female Juvenile with size 96 over the group of 120\n",
      "Train Test class House Sparrow Female with size 93 over the group of 117\n",
      "Unassigned rows 0\n"
     ]
    }
   ],
   "source": [
    "np.random.seed(1)  # Set random seed for consistent splits\n",
    "train_size = 0.8  # 80/20 split\n",
    "tt_df = joined_df.copy()  # take a copy so we can re run this code section and debug\n",
    "tt_df['Train_Test'] = -1  # init with -1 to id unassigned rows\n",
    "unique_names = tt_df['Class Name'].unique()\n",
    "for name in unique_names:\n",
    "    group_df = tt_df[tt_df['Class Name'] == name]\n",
    "    group_size = len(group_df)  # count number of images in class\n",
    "    train_count = int(group_size * train_size)\n",
    "    print(f'Train Test class {name} with size {train_count} over the group of {group_size}')\n",
    "    train_indices = np.random.choice(group_df.index, size=train_count, replace=False)\n",
    "    tt_df.loc[train_indices, 'Train_Test'] = 1  # set train to true for selected rows\n",
    "\n",
    "tt_df.loc[tt_df['Train_Test'] == -1, 'Train_Test'] = 0  # set remaining rows to zero\n",
    "print(f'Unassigned rows {(tt_df[\"Train_Test\"] == -1).sum()}')  # check that we go everything"
   ]
  },
  {
   "cell_type": "code",
   "execution_count": 10,
   "id": "87ec61e4-ce65-4753-80a7-0410a74111e9",
   "metadata": {
    "tags": []
   },
   "outputs": [
    {
     "name": "stdout",
     "output_type": "stream",
     "text": [
      "Class Name\n",
      "American Goldfinch Female Juvenile        96\n",
      "American Goldfinch Male                   96\n",
      "American Robin                            95\n",
      "Baltimore Oriole Female Juvenile          78\n",
      "Baltimore Oriole Male                     87\n",
      "Black-Capped Chickadee                    76\n",
      "Blue Jay                                  96\n",
      "Brown-Headed Cowbird Female Juvenile      82\n",
      "Brown-Headed Cowbird Male                 96\n",
      "Common Grackle                            94\n",
      "Dark-Eyed Junco                           96\n",
      "Downy Woodpecker                          96\n",
      "House Finch Female Juvenile               89\n",
      "House Finch Male                          96\n",
      "House Sparrow Female                      93\n",
      "House Sparrow Male                        95\n",
      "Mourning Dove                             96\n",
      "Northern Cardinal Female Juvenile         96\n",
      "Northern Cardinal Male                    96\n",
      "Purple Finch Female Juvenile              72\n",
      "Purple Finch Male                         82\n",
      "Red-Bellied Woodpecker                    96\n",
      "Rose-Breasted Grosbeak Female Juvenile    80\n",
      "Rose-Breasted Grosbeak Male               96\n",
      "Song Sparrow                              96\n",
      "Tree Sparrow                              88\n",
      "White-Breasted Nuthatch                   96\n"
     ]
    }
   ],
   "source": [
    "print(tt_df.groupby('Class Name')['Train_Test'].sum().to_string())  # check results should match train values above\n",
    "# print(tv_df.head(1))"
   ]
  },
  {
   "cell_type": "markdown",
   "id": "a8f1b610-27ee-4136-90a5-807b943cd007",
   "metadata": {
    "tags": []
   },
   "source": [
    "### Write out directory contents of Train and Validate under Images directory in GCS\n",
    "This next section sets up the train and validate directory for the tensorflow.keras images dataset from directory function.  Delete the train and validation folders underneath the images directory if the train/validation split needs to get reworked for any reason.  "
   ]
  },
  {
   "cell_type": "code",
   "execution_count": 13,
   "id": "631f4a2b-a841-4131-8881-4e54b7de8fa0",
   "metadata": {
    "tags": []
   },
   "outputs": [
    {
     "name": "stdout",
     "output_type": "stream",
     "text": [
      "Done\n"
     ]
    }
   ],
   "source": [
    "# wrote this out in native GCS API. Should consider moving this to gcs utility gcs.py \n",
    "storage_client = storage.Client()\n",
    "bucket = storage_client.bucket('nabirds_filtered')\n",
    "\n",
    "for _, row in tt_df.iterrows():\n",
    "    source_blob_name = row['Image Name']\n",
    "    path_parts = source_blob_name.split(\"images/\")\n",
    "    image_name = row['Image']\n",
    "    destination_folder = 'train' if row['Train_Test'] == 1 else 'test'\n",
    "    destination_blob_name = f'images/{destination_folder}/{path_parts[1]}'\n",
    "    source_blob = bucket.blob(source_blob_name)\n",
    "    destination_blob = bucket.copy_blob(source_blob, bucket, destination_blob_name)\n",
    "    # print(f'Copied {source_blob_name} to {destination_blob_name}')\n",
    "    \n",
    "print(f'Done')"
   ]
  },
  {
   "cell_type": "code",
   "execution_count": null,
   "id": "da9c54a1-18d7-4f0e-8c09-032bb9a122ae",
   "metadata": {},
   "outputs": [],
   "source": []
  },
  {
   "cell_type": "code",
   "execution_count": null,
   "id": "0adcf166-3d9a-45fe-8b3b-f4136860559d",
   "metadata": {},
   "outputs": [],
   "source": []
  }
 ],
 "metadata": {
  "environment": {
   "kernel": "conda-base-py",
   "name": "workbench-notebooks.m127",
   "type": "gcloud",
   "uri": "us-docker.pkg.dev/deeplearning-platform-release/gcr.io/workbench-notebooks:m127"
  },
  "kernelspec": {
   "display_name": "Python 3 (ipykernel)",
   "language": "python",
   "name": "conda-base-py"
  },
  "language_info": {
   "codemirror_mode": {
    "name": "ipython",
    "version": 3
   },
   "file_extension": ".py",
   "mimetype": "text/x-python",
   "name": "python",
   "nbconvert_exporter": "python",
   "pygments_lexer": "ipython3",
   "version": "3.10.16"
  }
 },
 "nbformat": 4,
 "nbformat_minor": 5
}

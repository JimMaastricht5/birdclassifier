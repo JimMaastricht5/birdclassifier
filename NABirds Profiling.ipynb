{
 "cells": [
  {
   "cell_type": "code",
   "execution_count": null,
   "id": "9ebbdde2-b04b-4c68-b7e9-434c8e1dc661",
   "metadata": {},
   "outputs": [],
   "source": []
  },
  {
   "cell_type": "code",
   "execution_count": null,
   "id": "ffa61b73-660e-4827-bb21-325c17684a91",
   "metadata": {},
   "outputs": [],
   "source": []
  },
  {
   "cell_type": "code",
   "execution_count": null,
   "id": "722fc6df-9fa5-4158-be1c-f55ef82e5167",
   "metadata": {},
   "outputs": [],
   "source": [
    "# CV2 doesn't install well on the rasp pi so we will try and limit the usage of that library across the analysis so as not to introduce techniques that cannot be repeated on the feeder.   \n",
    "# To the end, this notebook shares a code base with the feeder using the gcs.py and image_proc.py python files from the feeder project itself.  \n",
    "try:\n",
    "    import cv2\n",
    "except:\n",
    "    !pip install opencv-contrib-python\n",
    "    import cv2"
   ]
  },
  {
   "cell_type": "code",
   "execution_count": null,
   "id": "1858f446-f6d3-467b-8eb8-6cc1addbdece",
   "metadata": {},
   "outputs": [],
   "source": [
    "import pandas as pd\n",
    "import gcs_inventory as gcsi\n",
    "import matplotlib.pyplot as plt\n",
    "import gcs\n",
    "from io import BytesIO\n",
    "from PIL import Image\n",
    "import numpy as np\n",
    "import image_proc"
   ]
  },
  {
   "cell_type": "code",
   "execution_count": null,
   "id": "2b3214f3-f65c-4a9d-9cde-42cd1aa3897f",
   "metadata": {},
   "outputs": [],
   "source": [
    "# set up gcs storage for future reference throughout\n",
    "archive_web_storage = gcs.Storage(bucket_name='archive_jpg_from_birdclassifier')\n",
    "nabirds_web_storage = gcs.Storage(bucket_name='nabirds_filtered')\n",
    "\n",
    "# read the list of nabird files created with gcs_inventory locally and uploaded \n",
    "# saves some $$ avoiding a full list from gcs repeatedly\n",
    "df_file_name = 'nabirds-jpg-list.csv'\n",
    "try: \n",
    "    df_raw = pd.read_csv(df_file_name)  # reload existing file if it exists, delete it if you want to recreate it\n",
    "    print(f'Loading existing file {df_file_name}')\n",
    "except:\n",
    "    df_raw = gcs.get_nabirds_jpg_images(df_file_name)  # .01 per 1000 operations so about $0.80 per run, create from scratch\n",
    "    print(f'Reading images from GCS....')\n",
    "\n",
    "df_raw.to_csv(df_file_name, index=False)\n",
    "print(f'Saved jpg list as {df_file_name}....')  # this save my be redundant if the file was loaded from disk vs. recreated from the gcs listing\n"
   ]
  },
  {
   "cell_type": "code",
   "execution_count": null,
   "id": "54f703c4-0b0c-48bc-90ff-2b5fd7e217aa",
   "metadata": {},
   "outputs": [],
   "source": [
    "### helper functions  ###\n",
    "\n",
    "# open cv does not install well on rasp pi, adding focal quality function here instead of image_proc\n",
    "# this technique would need to be manually created in the image_proc lib for the pi\n",
    "def focal_quality(img: Image.Image) -> float:\n",
    "    laplacain_operator = cv2.Laplacian(np.array(image_proc.grayscale(img)), cv2.CV_64F)\n",
    "    return laplacain_operator.var()"
   ]
  },
  {
   "cell_type": "code",
   "execution_count": null,
   "id": "b24ee63c-4bcd-4fcb-bc4f-ff774433057d",
   "metadata": {},
   "outputs": [],
   "source": []
  }
 ],
 "metadata": {
  "environment": {
   "kernel": "conda-base-py",
   "name": "workbench-notebooks.m127",
   "type": "gcloud",
   "uri": "us-docker.pkg.dev/deeplearning-platform-release/gcr.io/workbench-notebooks:m127"
  },
  "kernelspec": {
   "display_name": "Python 3 (ipykernel)",
   "language": "python",
   "name": "conda-base-py"
  },
  "language_info": {
   "codemirror_mode": {
    "name": "ipython",
    "version": 3
   },
   "file_extension": ".py",
   "mimetype": "text/x-python",
   "name": "python",
   "nbconvert_exporter": "python",
   "pygments_lexer": "ipython3",
   "version": "3.10.16"
  }
 },
 "nbformat": 4,
 "nbformat_minor": 5
}
